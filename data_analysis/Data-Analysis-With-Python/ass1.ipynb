{
 "cells": [
  {
   "cell_type": "markdown",
   "id": "ca35f88f",
   "metadata": {},
   "source": [
    "1. Create a NumPy array of shape (5, 5) filled with random integers between 1 and 20. Replace all the elements in the third column with 1.\n"
   ]
  },
  {
   "cell_type": "code",
   "execution_count": 9,
   "id": "f0c46978",
   "metadata": {},
   "outputs": [],
   "source": [
    "import numpy as np\n",
    "import pandas as pd\n",
    "import random"
   ]
  },
  {
   "cell_type": "code",
   "execution_count": 10,
   "id": "60e3db4f",
   "metadata": {},
   "outputs": [
    {
     "name": "stdout",
     "output_type": "stream",
     "text": [
      "[[19 12  3 11  5]\n",
      " [ 1 11  9  1 14]\n",
      " [ 8 10 15 18  9]\n",
      " [14  6  7  4 10]\n",
      " [11 15  4  7 11]]\n"
     ]
    }
   ],
   "source": [
    "arr = np.random.randint(1, 21, size=(5,5))\n",
    "print(arr)"
   ]
  },
  {
   "cell_type": "code",
   "execution_count": 11,
   "id": "ddd17ef3",
   "metadata": {},
   "outputs": [
    {
     "data": {
      "text/plain": [
       "array([[19, 12,  1, 11,  5],\n",
       "       [ 1, 11,  1,  1, 14],\n",
       "       [ 8, 10,  1, 18,  9],\n",
       "       [14,  6,  1,  4, 10],\n",
       "       [11, 15,  1,  7, 11]])"
      ]
     },
     "execution_count": 11,
     "metadata": {},
     "output_type": "execute_result"
    }
   ],
   "source": [
    "arr[:, 2] =  1\n",
    "arr"
   ]
  },
  {
   "cell_type": "markdown",
   "id": "4db63345",
   "metadata": {},
   "source": [
    "2. Create a NumPy array of shape (4, 4) with values from 1 to 16. Replace the diagonal elements with 0."
   ]
  },
  {
   "cell_type": "code",
   "execution_count": 12,
   "id": "23a8d977",
   "metadata": {},
   "outputs": [
    {
     "data": {
      "text/plain": [
       "array([[ 7,  6, 10,  3],\n",
       "       [ 1, 15,  8,  4],\n",
       "       [15, 11, 15,  1],\n",
       "       [ 1,  6,  8,  2]])"
      ]
     },
     "execution_count": 12,
     "metadata": {},
     "output_type": "execute_result"
    }
   ],
   "source": [
    "arr2 = np.random.randint(1, 16, size=(4,4))\n",
    "arr2"
   ]
  },
  {
   "cell_type": "code",
   "execution_count": 13,
   "id": "b63b5605",
   "metadata": {},
   "outputs": [
    {
     "data": {
      "text/plain": [
       "array([[ 0,  6, 10,  3],\n",
       "       [ 1,  0,  8,  4],\n",
       "       [15, 11,  0,  1],\n",
       "       [ 1,  6,  8,  0]])"
      ]
     },
     "execution_count": 13,
     "metadata": {},
     "output_type": "execute_result"
    }
   ],
   "source": [
    "np.fill_diagonal(arr2, 0,wrap=True)\n",
    "arr2"
   ]
  },
  {
   "cell_type": "markdown",
   "id": "2fdc931c",
   "metadata": {},
   "source": [
    "1. Create a NumPy array of shape (6, 6) with values from 1 to 36. Extract the sub-array consisting of the 3rd to 5th rows and 2nd to 4th columns.\n"
   ]
  },
  {
   "cell_type": "code",
   "execution_count": 14,
   "id": "cf1a5c0b",
   "metadata": {},
   "outputs": [
    {
     "data": {
      "text/plain": [
       "array([[ 4, 31, 26, 27, 29, 18],\n",
       "       [27, 13, 19,  9, 16, 10],\n",
       "       [26, 16,  6, 11, 31, 23],\n",
       "       [ 4,  3,  4, 29,  9, 16],\n",
       "       [ 4, 27, 25, 12,  9,  6],\n",
       "       [20,  8,  5, 10,  5, 14]])"
      ]
     },
     "execution_count": 14,
     "metadata": {},
     "output_type": "execute_result"
    }
   ],
   "source": [
    "arr3 = np.random.randint(1, 32, size=(6,6))\n",
    "arr3"
   ]
  },
  {
   "cell_type": "code",
   "execution_count": 28,
   "id": "5253f392",
   "metadata": {},
   "outputs": [
    {
     "data": {
      "text/plain": [
       "array([[ 4, 31, 26, 27, 29, 18],\n",
       "       [27, 13, 19,  9, 16, 10],\n",
       "       [26, 16,  6, 11, 31, 23]])"
      ]
     },
     "execution_count": 28,
     "metadata": {},
     "output_type": "execute_result"
    }
   ],
   "source": [
    "arr4 = arr3[0:3]\n",
    "arr4"
   ]
  },
  {
   "cell_type": "markdown",
   "id": "eadc7924",
   "metadata": {},
   "source": [
    "2. Create a NumPy array of shape (5, 5) with random integers. Extract the elements on the border.\n"
   ]
  },
  {
   "cell_type": "code",
   "execution_count": 29,
   "id": "a60adc6f",
   "metadata": {},
   "outputs": [
    {
     "data": {
      "text/plain": [
       "array([[18, 23, 11, 14, 18],\n",
       "       [28, 23, 20, 24, 19],\n",
       "       [ 4, 19, 28,  8, 26],\n",
       "       [26,  7, 15, 21,  3],\n",
       "       [27,  7, 25, 11, 10]])"
      ]
     },
     "execution_count": 29,
     "metadata": {},
     "output_type": "execute_result"
    }
   ],
   "source": [
    "arr5=np.random.randint(1, 30, size=(5,5))\n",
    "arr5"
   ]
  },
  {
   "cell_type": "code",
   "execution_count": null,
   "id": "c906501b",
   "metadata": {},
   "outputs": [
    {
     "name": "stdout",
     "output_type": "stream",
     "text": [
      "[[ 0  0  0  0  0]\n",
      " [ 0 23 20 24  0]\n",
      " [ 0 19 28  8  0]\n",
      " [ 0  7 15 21  0]\n",
      " [ 0  0  0  0  0]]\n"
     ]
    }
   ],
   "source": [
    "border_value = False\n",
    "\n",
    "# the value of dim starts from 0 and then goes to 1\n",
    "# so in the first iteration it attacks the first dimension\n",
    "# and in the second iteration it attacks the second dimension\n",
    "\n",
    "for dim in range(arr5.ndim):\n",
    "    array_moved = np.moveaxis(arr5, dim, 0)\n",
    "    array_moved[0] = border_value\n",
    "    array_moved[-1] = border_value\n",
    "\n",
    "print(arr5)"
   ]
  },
  {
   "cell_type": "markdown",
   "id": "87ca41b2",
   "metadata": {},
   "source": [
    "1. Create a NumPy array of shape (5, 5) filled with random integers. Compute the mean, median, standard deviation, and variance of the array."
   ]
  },
  {
   "cell_type": "code",
   "execution_count": 33,
   "id": "3fe6db7f",
   "metadata": {},
   "outputs": [
    {
     "data": {
      "text/plain": [
       "array([[13, 16, 11, 15,  7],\n",
       "       [ 3, 17,  9, 13, 18],\n",
       "       [12, 10, 14, 11, 16],\n",
       "       [ 9, 16, 10,  2, 15],\n",
       "       [ 1, 10,  4, 17, 13]])"
      ]
     },
     "execution_count": 33,
     "metadata": {},
     "output_type": "execute_result"
    }
   ],
   "source": [
    "array=np.random.randint(1, 20, size=(5,5))\n",
    "array"
   ]
  },
  {
   "cell_type": "code",
   "execution_count": 34,
   "id": "7610d543",
   "metadata": {},
   "outputs": [
    {
     "data": {
      "text/plain": [
       "11.28"
      ]
     },
     "execution_count": 34,
     "metadata": {},
     "output_type": "execute_result"
    }
   ],
   "source": [
    "mean_array = np.mean(array)\n",
    "mean_array"
   ]
  },
  {
   "cell_type": "code",
   "execution_count": 36,
   "id": "baf4f9e0",
   "metadata": {},
   "outputs": [
    {
     "data": {
      "text/plain": [
       "12.0"
      ]
     },
     "execution_count": 36,
     "metadata": {},
     "output_type": "execute_result"
    }
   ],
   "source": [
    "median_array = np.median(array)\n",
    "median_array"
   ]
  },
  {
   "cell_type": "code",
   "execution_count": 37,
   "id": "e28263b4",
   "metadata": {},
   "outputs": [
    {
     "data": {
      "text/plain": [
       "4.770911862526911"
      ]
     },
     "execution_count": 37,
     "metadata": {},
     "output_type": "execute_result"
    }
   ],
   "source": [
    "standard_deviation_array = np.std(array)\n",
    "standard_deviation_array"
   ]
  },
  {
   "cell_type": "code",
   "execution_count": 38,
   "id": "a039a328",
   "metadata": {},
   "outputs": [
    {
     "data": {
      "text/plain": [
       "22.761599999999998"
      ]
     },
     "execution_count": 38,
     "metadata": {},
     "output_type": "execute_result"
    }
   ],
   "source": [
    "variance_array = np.var(array)\n",
    "variance_array"
   ]
  },
  {
   "cell_type": "markdown",
   "id": "0ca538bb",
   "metadata": {},
   "source": [
    "1. Create a NumPy array of shape (3, 3) with values from 1 to 9. Reshape the array to shape (1, 9) and then to shape (9, 1).\n"
   ]
  },
  {
   "cell_type": "code",
   "execution_count": 39,
   "id": "762fc2bf",
   "metadata": {},
   "outputs": [
    {
     "name": "stdout",
     "output_type": "stream",
     "text": [
      "[[8 5 7]\n",
      " [6 7 2]\n",
      " [1 1 7]]\n"
     ]
    }
   ],
   "source": [
    "array=np.random.randint(1,9,size=(3,3))\n",
    "print(array)"
   ]
  },
  {
   "cell_type": "code",
   "execution_count": 40,
   "id": "4b4a4320",
   "metadata": {},
   "outputs": [
    {
     "data": {
      "text/plain": [
       "array([[8, 5, 7, 6, 7, 2, 1, 1, 7]])"
      ]
     },
     "execution_count": 40,
     "metadata": {},
     "output_type": "execute_result"
    }
   ],
   "source": [
    "array.reshape(1,9)"
   ]
  },
  {
   "cell_type": "code",
   "execution_count": 41,
   "id": "d4958f5a",
   "metadata": {},
   "outputs": [
    {
     "data": {
      "text/plain": [
       "array([[8],\n",
       "       [5],\n",
       "       [7],\n",
       "       [6],\n",
       "       [7],\n",
       "       [2],\n",
       "       [1],\n",
       "       [1],\n",
       "       [7]])"
      ]
     },
     "execution_count": 41,
     "metadata": {},
     "output_type": "execute_result"
    }
   ],
   "source": [
    "array.reshape(9,1)"
   ]
  },
  {
   "cell_type": "code",
   "execution_count": null,
   "id": "b9a6082c",
   "metadata": {},
   "outputs": [],
   "source": []
  }
 ],
 "metadata": {
  "kernelspec": {
   "display_name": "Python 3",
   "language": "python",
   "name": "python3"
  },
  "language_info": {
   "codemirror_mode": {
    "name": "ipython",
    "version": 3
   },
   "file_extension": ".py",
   "mimetype": "text/x-python",
   "name": "python",
   "nbconvert_exporter": "python",
   "pygments_lexer": "ipython3",
   "version": "3.12.6"
  }
 },
 "nbformat": 4,
 "nbformat_minor": 5
}
